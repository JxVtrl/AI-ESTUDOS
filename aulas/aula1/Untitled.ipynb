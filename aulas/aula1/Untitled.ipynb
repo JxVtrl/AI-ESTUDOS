{
 "cells": [
  {
   "cell_type": "code",
   "execution_count": 32,
   "id": "d9153b42",
   "metadata": {},
   "outputs": [],
   "source": [
    "from agents import *"
   ]
  },
  {
   "cell_type": "code",
   "execution_count": 33,
   "id": "c3b8c7ec",
   "metadata": {},
   "outputs": [],
   "source": [
    "class SondaMarciana(Agent):\n",
    "    def absorveu(self, thing):\n",
    "        print('Sonda : Absorveu uma bateria em {}.'.format(self.location))\n",
    "    def registrou(self, thing):\n",
    "        print('Sonda : Registrou um marciano em {}.'.format(self.location))"
   ]
  },
  {
   "cell_type": "code",
   "execution_count": 42,
   "id": "2fd2f0da",
   "metadata": {},
   "outputs": [
    {
     "name": "stdout",
     "output_type": "stream",
     "text": [
      "Can't find a valid program for SondaMarciana, falling back to default.\n"
     ]
    }
   ],
   "source": [
    "Curiosity = SondaMarciana()"
   ]
  },
  {
   "cell_type": "code",
   "execution_count": 43,
   "id": "73099ccc",
   "metadata": {},
   "outputs": [],
   "source": [
    "class Baterias(Thing):\n",
    "    pass\n",
    "class Marciano(Thing):\n",
    "    pass"
   ]
  },
  {
   "cell_type": "code",
   "execution_count": 72,
   "id": "1a8d5365",
   "metadata": {},
   "outputs": [],
   "source": [
    "class Marte(Environment):\n",
    "    def percept(self, agent):\n",
    "        #retornar uma lista de coisas que estao na proximidade da sonda.\n",
    "        coisas = self.list_things_at(agent.location)\n",
    "        return coisas\n",
    "    def execute_action(self, agent, action):\n",
    "        #altera o estado do ambiente baseado no que faz o agente.\n",
    "        if action == 'ir em frente':\n",
    "            print('{} resolveu {} na posição {}'.format( str(agent)[1:-1], action, agent.location) )\n",
    "            agent.vaiemfrente()\n",
    "        elif action == 'absorver':\n",
    "            items = self.list_things_at(agent.location, tclass= Baterias)\n",
    "            if len(items) != 0:\n",
    "                if agent.absorveu(items[0]): #Sonda absorveu a bateria\n",
    "                    print('{} absorveu {} na posicao {}'.format( str(agent)[1:-1], action, agent.location) )\n",
    "                    self.delete_thing(items[0]) # remove a bateria absorvida do ambiente\n",
    "        elif action == 'registrar':\n",
    "            items = self.list_things_at(agent.location, tclass= Marciano)\n",
    "            if len(items) != 0:\n",
    "                if agent.registrou(items[0]): #Sonda registrou o marciano\n",
    "                    print('{} registrou {} na posicao {}'.format( str(agent)[1:-1], action, agent.location) )\n",
    "                    self.delete_thing(items[0]) # ignora marciano registrado\n",
    "    \n",
    "    def is_done(self):\n",
    "            no_edibles = not any( isinstance(thing, Baterias) or isinstance(thing, Marciano) for thing in self.things )\n",
    "            dead_agents = not any( agent.is_alive() for agent in self.agents)\n",
    "            return dead_agents or no_edibles"
   ]
  },
  {
   "cell_type": "code",
   "execution_count": 73,
   "id": "6bf9acf0",
   "metadata": {},
   "outputs": [],
   "source": [
    "class SondaMarciana(Agent):\n",
    "    location = 1\n",
    "    def vaiemfrente(self):\n",
    "        self.location += 1\n",
    "        \n",
    "    def absorveu(self, thing):\n",
    "        if isinstance(thing, Baterias):\n",
    "            return True\n",
    "        return False\n",
    "    \n",
    "    def registrou(self, thing):\n",
    "        if isinstance(thing, Marciano):\n",
    "            return True\n",
    "        return False"
   ]
  },
  {
   "cell_type": "code",
   "execution_count": 74,
   "id": "60651dbf",
   "metadata": {},
   "outputs": [],
   "source": [
    "def program( percepts ):\n",
    "    for p in percepts:\n",
    "        if isinstance(p, Baterias):\n",
    "            return 'absorver'\n",
    "        elif isinstance(p, Marciano):\n",
    "            return 'registrar'\n",
    "    return 'ir em frente'\n",
    "        "
   ]
  },
  {
   "cell_type": "code",
   "execution_count": 75,
   "id": "9efed931",
   "metadata": {},
   "outputs": [],
   "source": [
    "planicieMarciana = Marte()"
   ]
  },
  {
   "cell_type": "code",
   "execution_count": 76,
   "id": "cba30584",
   "metadata": {},
   "outputs": [],
   "source": [
    "Curiosity = SondaMarciana(program)"
   ]
  },
  {
   "cell_type": "code",
   "execution_count": 77,
   "id": "ee8e3b2d",
   "metadata": {},
   "outputs": [],
   "source": [
    "bateria1 = Baterias()\n",
    "bateria2 = Baterias()\n",
    "marciano1 = Marciano()\n",
    "marciano2 = Marciano()\n",
    "\n",
    "planicieMarciana.add_thing(Curiosity, 1)\n",
    "planicieMarciana.add_thing(bateria1, 4)\n",
    "planicieMarciana.add_thing(bateria2, 9)\n",
    "planicieMarciana.add_thing(marciano1, 5)\n",
    "planicieMarciana.add_thing(marciano2, 12)"
   ]
  },
  {
   "cell_type": "code",
   "execution_count": 78,
   "id": "7caba078",
   "metadata": {},
   "outputs": [
    {
     "name": "stdout",
     "output_type": "stream",
     "text": [
      "SondaMarciana resolveu ir em frente na posição 1\n",
      "SondaMarciana resolveu ir em frente na posição 2\n",
      "SondaMarciana resolveu ir em frente na posição 3\n",
      "SondaMarciana absorveu absorver na posicao 4\n",
      "SondaMarciana resolveu ir em frente na posição 4\n",
      "SondaMarciana registrou registrar na posicao 5\n",
      "SondaMarciana resolveu ir em frente na posição 5\n",
      "SondaMarciana resolveu ir em frente na posição 6\n",
      "SondaMarciana resolveu ir em frente na posição 7\n",
      "SondaMarciana resolveu ir em frente na posição 8\n",
      "SondaMarciana absorveu absorver na posicao 9\n",
      "SondaMarciana resolveu ir em frente na posição 9\n",
      "SondaMarciana resolveu ir em frente na posição 10\n",
      "SondaMarciana resolveu ir em frente na posição 11\n",
      "SondaMarciana registrou registrar na posicao 12\n"
     ]
    }
   ],
   "source": [
    "planicieMarciana.run(15)"
   ]
  },
  {
   "cell_type": "code",
   "execution_count": null,
   "id": "6e7c9c77",
   "metadata": {},
   "outputs": [],
   "source": []
  },
  {
   "cell_type": "code",
   "execution_count": null,
   "id": "a388cee2",
   "metadata": {},
   "outputs": [],
   "source": []
  }
 ],
 "metadata": {
  "kernelspec": {
   "display_name": "Python 3 (ipykernel)",
   "language": "python",
   "name": "python3"
  },
  "language_info": {
   "codemirror_mode": {
    "name": "ipython",
    "version": 3
   },
   "file_extension": ".py",
   "mimetype": "text/x-python",
   "name": "python",
   "nbconvert_exporter": "python",
   "pygments_lexer": "ipython3",
   "version": "3.9.4"
  }
 },
 "nbformat": 4,
 "nbformat_minor": 5
}
